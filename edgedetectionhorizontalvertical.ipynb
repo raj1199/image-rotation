{
 "cells": [
  {
   "cell_type": "code",
   "execution_count": 1,
   "metadata": {},
   "outputs": [],
   "source": [
    "from PIL import Image\n",
    "import numpy as np\n",
    "import matplotlib.pyplot as plt\n"
   ]
  },
  {
   "cell_type": "code",
   "execution_count": 29,
   "metadata": {
    "scrolled": true
   },
   "outputs": [],
   "source": [
    "def rgb2gray(rgb):\n",
    "    r, g, b = rgb[:,:,0], rgb[:,:,1], rgb[:,:,2]\n",
    "    gray = 0.2989 * r + 0.5870 * g + 0.1140 * b\n",
    "    return gray\n",
    "\n",
    "\n",
    "\n",
    "def convolution(image,kernel):\n",
    "    img_row,img_column=image.shape\n",
    "    #kernel_size=kernel.shape[0]\n",
    "    #padding_width=(kernel_size-1)//2\n",
    "    output=np.zeros(image.shape)\n",
    "    padded_image=np.zeros((img_row+kernel.shape[0]-1,img_column+kernel.shape[1]-1))\n",
    "    padded_image[kernel.shape[0]-1:kernel.shape[0]-1+img_row,kernel.shape[1]-1:kernel.shape[1]-1+img_column]=image\n",
    "    for j in range(img_column):\n",
    "        for i in range(img_row):\n",
    "            output[i,j]=np.sum(padded_image[i:i+kernel.shape[0],j:j+kernel.shape[1]]*kernel)\n",
    "    return output\n",
    "\n",
    "x_direction_kernel=np.array([[-1,0,1],\n",
    "                             [-2,0,2],\n",
    "                             [-1,0,1]])\n",
    "\n",
    "y_direction_kernel=np.array([[-1,-2,-1],\n",
    "                             [ 0, 0, 0],\n",
    "                             [ 1, 2, 1]])\n",
    "\n",
    "gaussian_blurr=np.array([[1,  4,  6,  4, 1],\n",
    "                         [4, 16, 24, 16, 4],\n",
    "                         [6, 24, 36, 24, 6],\n",
    "                         [4, 16, 24, 16, 4],\n",
    "                         [1,  4,  6,  4, 1]])/256\n",
    "\n",
    "file=\"edgedetection.png\"\n",
    "im=rgb2gray(np.array(Image.open(file)))\n",
    "#intensity = [[sum(im[x, y]) / 3 for y in range(im.shape[1])] for x in range(im.shape[0])]\n",
    "im=convolution(im,gaussian_blurr)\n",
    "im=convolution(im,x_direction_kernel)\n",
    "new_img=Image.fromarray(im).convert('RGB')\n",
    "new_img.show()"
   ]
  },
  {
   "cell_type": "code",
   "execution_count": null,
   "metadata": {},
   "outputs": [],
   "source": []
  }
 ],
 "metadata": {
  "kernelspec": {
   "display_name": "Python 3",
   "language": "python",
   "name": "python3"
  },
  "language_info": {
   "codemirror_mode": {
    "name": "ipython",
    "version": 3
   },
   "file_extension": ".py",
   "mimetype": "text/x-python",
   "name": "python",
   "nbconvert_exporter": "python",
   "pygments_lexer": "ipython3",
   "version": "3.7.6"
  }
 },
 "nbformat": 4,
 "nbformat_minor": 4
}
