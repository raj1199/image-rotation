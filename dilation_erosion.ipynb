{
 "cells": [
  {
   "cell_type": "code",
   "execution_count": 2,
   "metadata": {},
   "outputs": [
    {
     "data": {
      "image/png": "[encoded data removed]",
      "text/plain": [
       "<PIL.PngImagePlugin.PngImageFile image mode=RGB size=112x150 at 0x27EDC3F3148>"
      ]
     },
     "execution_count": 2,
     "metadata": {},
     "output_type": "execute_result"
    }
   ],
   "source": [
    "\n",
    "from PIL import Image\n",
    "import numpy as np\n",
    "import matplotlib.pyplot as plt\n",
    "\n",
    "def rgb2gray(rgb):\n",
    "    r, g, b = rgb[:,:,0], rgb[:,:,1], rgb[:,:,2]\n",
    "    gray = 0.2989 * r + 0.5870 * g + 0.1140 * b\n",
    "    return gray\n",
    "\n",
    "def gray2binary(gray):\n",
    "    return (127 < gray) & (gray <= 255)\n",
    "\n",
    "\n",
    "\n",
    "def dilation(image,kernel):\n",
    "    img_row,img_column=image.shape\n",
    "    #kernel_size=kernel.shape[0]\n",
    "    #padding_width=(kernel_size-1)//2\n",
    "    output=np.zeros(image.shape)\n",
    "    padded_image=np.zeros((img_row+kernel.shape[0]-1,img_column+kernel.shape[1]-1))\n",
    "    padded_image[kernel.shape[0]-1:kernel.shape[0]-1+img_row,kernel.shape[1]-1:kernel.shape[1]-1+img_column]=image\n",
    "    for j in range(img_column):\n",
    "        for i in range(img_row):\n",
    "            value=np.sum(padded_image[i:i+kernel.shape[0],j:j+kernel.shape[1]]*kernel)\n",
    "            if value>0:\n",
    "                output[i,j]=1\n",
    "            else :\n",
    "                output[i,j]=0\n",
    "    return output\n",
    "\n",
    "def erosion(image,kernel):\n",
    "    img_row,img_column=image.shape\n",
    "    #kernel_size=kernel.shape[0]\n",
    "    #padding_width=(kernel_size-1)//2\n",
    "    output=np.zeros(image.shape)\n",
    "    padded_image=np.zeros((img_row+kernel.shape[0]-1,img_column+kernel.shape[1]-1))\n",
    "    padded_image[kernel.shape[0]-1:kernel.shape[0]-1+img_row,kernel.shape[1]-1:kernel.shape[1]-1+img_column]=image\n",
    "    for j in range(img_column):\n",
    "        for i in range(img_row):\n",
    "            value1=np.sum(padded_image[i:i+kernel.shape[0],j:j+kernel.shape[1]]*kernel)\n",
    "            if value1==5:\n",
    "                output[i,j]=1\n",
    "            else :\n",
    "                output[i,j]=0\n",
    "    return output\n",
    "\n",
    "\n",
    "\n",
    "structured=np.array([[0, 1, 0],\n",
    "                 [1, 1, 1],\n",
    "                  [0, 1, 0]])\n",
    "\n",
    "\n",
    "\n",
    "file=\"morphological.png\"\n",
    "im=gray2binary(rgb2gray(np.array(Image.open(file))))\n",
    "#intensity = [[sum(im[x, y]) / 3 for y in range(im.shape[1])] for x in range(im.shape[0])]\n",
    "imd=dilation(im,structured)\n",
    "ime=erosion(im,structured)\n",
    "new_img_d=Image.fromarray(imd).convert('RGB')\n",
    "new_img_e=Image.fromarray(ime).convert('RGB')\n",
    "new_img_d.save('dilation.png')\n",
    "new_img_e.save('erosion.png')\n",
    "Image.open('dilation.png')\n",
    "Image.open('erosion.png')"
   ]
  },
  {
   "cell_type": "code",
   "execution_count": null,
   "metadata": {},
   "outputs": [],
   "source": []
  }
 ],
 "metadata": {
  "kernelspec": {
   "display_name": "Python 3",
   "language": "python",
   "name": "python3"
  },
  "language_info": {
   "codemirror_mode": {
    "name": "ipython",
    "version": 3
   },
   "file_extension": ".py",
   "mimetype": "text/x-python",
   "name": "python",
   "nbconvert_exporter": "python",
   "pygments_lexer": "ipython3",
   "version": "3.7.6"
  }
 },
 "nbformat": 4,
 "nbformat_minor": 4
}
