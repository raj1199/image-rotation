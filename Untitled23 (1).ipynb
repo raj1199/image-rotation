{
 "cells": [
  {
   "cell_type": "code",
   "execution_count": 6,
   "metadata": {},
   "outputs": [],
   "source": [
    "from PIL import Image\n",
    "import numpy as np\n",
    "\n",
    "def convolve3d(image, kernel):\n",
    "    output = np.zeros_like(image)\n",
    "    image_padded = np.zeros((image.shape[0]+kernel.shape[0]-1,image.shape[1] + kernel.shape[1]-1,image.shape[2]))\n",
    "    image_padded[kernel.shape[0]-2:-1:,kernel.shape[1]-2:-1:,:] = image\n",
    "    image_padded[0,0,:]=image[0,0,:]\n",
    "    image_padded[-1,-1,:]=image[-1,-1,:]\n",
    "    for x in range(image.shape[1]):\n",
    "        for y in range(image.shape[0]):\n",
    "            for z in range(image.shape[2]):\n",
    "                output[y,x,z]=(kernel * image_padded[y: y+kernel.shape[0], x: x+kernel.shape[1],z]).sum()\n",
    "    return output\n",
    "\n",
    "gaussian_blur=np.array([[1,  4,  6,  4, 1],\n",
    "                         [4, 16, 24, 16, 4],\n",
    "                         [6, 24, 36, 24, 6],\n",
    "                         [4, 16, 24, 16, 4],\n",
    "                         [1,  4,  6,  4, 1]])/256\n",
    "\n",
    "box_blur=np.array([[1,1,1],\n",
    "                   [1,1,1],\n",
    "                   [1,1,1]])/9\n",
    "\n",
    "im = np.array(Image.open(\"iptask2.png\"))\n",
    "pil_img=Image.fromarray(convolve3d(im, box_blur))\n",
    "pil_img.show()"
   ]
  },
  {
   "cell_type": "code",
   "execution_count": null,
   "metadata": {},
   "outputs": [],
   "source": []
  }
 ],
 "metadata": {
  "kernelspec": {
   "display_name": "Python 3",
   "language": "python",
   "name": "python3"
  },
  "language_info": {
   "codemirror_mode": {
    "name": "ipython",
    "version": 3
   },
   "file_extension": ".py",
   "mimetype": "text/x-python",
   "name": "python",
   "nbconvert_exporter": "python",
   "pygments_lexer": "ipython3",
   "version": "3.7.6"
  }
 },
 "nbformat": 4,
 "nbformat_minor": 4
}
