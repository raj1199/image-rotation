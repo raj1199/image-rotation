{
 "cells": [
  {
   "cell_type": "code",
   "execution_count": 9,
   "metadata": {},
   "outputs": [
    {
     "data": {
      "image/png": "[encoded data removed]",
      "text/plain": [
       "<PIL.PngImagePlugin.PngImageFile image mode=RGB size=112x150 at 0x2169C24A5C8>"
      ]
     },
     "execution_count": 9,
     "metadata": {},
     "output_type": "execute_result"
    }
   ],
   "source": [
    "from PIL import Image\n",
    "import numpy as np\n",
    "\n",
    "\n",
    "def rgb2gray(rgb):\n",
    "    r, g, b = rgb[:, :, 0], rgb[:, :, 1], rgb[:, :, 2]\n",
    "    gray = 0.2989 * r + 0.5870 * g + 0.1140 * b\n",
    "    return gray\n",
    "\n",
    "\n",
    "def gray2binary(gray):\n",
    "    return (127 < gray) & (gray <= 255)\n",
    "\n",
    "\n",
    "\n",
    "\n",
    "def dilation(image,kernel):\n",
    "    output = np.zeros_like(image)\n",
    "    padding = np.zeros((image.shape[0] + kernel.shape[0] - 1, image.shape[1] + kernel.shape[1] - 1))\n",
    "    #padding[kernel.shape[0] - 2:-1:, kernel.shape[1] - 2:-1:] = image\n",
    "    padding[kernel.shape[0]-2:kernel.shape[0]-2+image.shape[0],kernel.shape[1]-2:kernel.shape[1]-2+image.shape[1]]=image\n",
    "    for x in range(image.shape[1]):\n",
    "        for y in range(image.shape[0]):\n",
    "            res = (kernel * padding[y: y + kernel.shape[0], x: x + kernel.shape[1]]).sum()\n",
    "            if res > 0:\n",
    "                output[y, x] = 1\n",
    "            else:\n",
    "                output[y, x] = 0\n",
    "    return output\n",
    "    \n",
    "\n",
    "structured = np.array([[0, 1, 0],\n",
    "                                [1, 1, 1],\n",
    "                                [0, 1, 0]])\n",
    "\n",
    "img = \"morphological.png\"\n",
    "im = gray2binary(rgb2gray(np.array(Image.open(img))))\n",
    "#ime = erosion(im, structured)\n",
    "imd = dilation(im,structured) \n",
    "#eroded = Image.fromarray(ime).convert('RGB')\n",
    "dilated = Image.fromarray(imd).convert('RGB')\n",
    "#eroded.show()\n",
    "#dilated.show()\n",
    "#eroded.save('eroded.png')\n",
    "dilated.save('dilated.png')\n",
    "#Image.open('eroded.png')\n",
    "Image.open('dilated.png')"
   ]
  },
  {
   "cell_type": "code",
   "execution_count": null,
   "metadata": {},
   "outputs": [],
   "source": []
  }
 ],
 "metadata": {
  "kernelspec": {
   "display_name": "Python 3",
   "language": "python",
   "name": "python3"
  },
  "language_info": {
   "codemirror_mode": {
    "name": "ipython",
    "version": 3
   },
   "file_extension": ".py",
   "mimetype": "text/x-python",
   "name": "python",
   "nbconvert_exporter": "python",
   "pygments_lexer": "ipython3",
   "version": "3.7.6"
  }
 },
 "nbformat": 4,
 "nbformat_minor": 4
}
