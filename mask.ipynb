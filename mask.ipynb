{
 "cells": [
  {
   "cell_type": "code",
   "execution_count": 7,
   "metadata": {},
   "outputs": [],
   "source": [
    "import cv2\n",
    "import numpy as np\n",
    "from PIL import Image\n",
    "\n",
    "def RGB2BGR(image):\n",
    "    image1=np.zeros_like(image)\n",
    "    for i in range(image.shape[0]):\n",
    "        for j in range(image.shape[1]):\n",
    "            image1[i][j][0]=image[i][j][2]\n",
    "            image1[i][j][1]=image[i][j][1]\n",
    "            image1[i][j][2]=image[i][j][0]\n",
    "    return image1\n",
    "\n",
    "def masking_image(image,lower,upper):\n",
    "    image_copy=image\n",
    "    image = cv2.cvtColor(image, cv2.COLOR_BGR2HSV)\n",
    "    mask=np.zeros((image.shape[0],image.shape[1],image.shape[2]),dtype=np.uint8)\n",
    "    for i in range(image.shape[0]):\n",
    "        for j in range(image.shape[1]):\n",
    "            if image[i][j][0] >= lower[0] and image[i][j][1] >= lower[1] and image[i][j][2] >= lower[2] and image[i][j][0] <= upper[0] and image[i][j][1] <= upper[1] and image[i][j][2] <= upper[2]:\n",
    "                    mask[i][j][0] = image[i][j][0]\n",
    "                    mask[i][j][1] = image[i][j][1]\n",
    "                    mask[i][j][2] = image[i][j][2]\n",
    "    image=np.bitwise_and(mask,image)\n",
    "    image= cv2.cvtColor(image, cv2.COLOR_HSV2RGB)\n",
    "    \n",
    "    return image\n",
    "\n",
    "def convolve3d(image, kernel):\n",
    "    output = np.zeros_like(image)\n",
    "    image_padded = np.zeros((image.shape[0]+kernel.shape[0]-1,image.shape[1] + kernel.shape[1]-1,image.shape[2]))\n",
    "    image_padded[kernel.shape[0]-2:-1:,kernel.shape[1]-2:-1:,:] = image\n",
    "    image_padded[0,0,:]=image[0,0,:]\n",
    "    image_padded[-1,-1,:]=image[-1,-1,:]\n",
    "    for x in range(image.shape[1]):\n",
    "        for y in range(image.shape[0]):\n",
    "            for z in range(image.shape[2]):\n",
    "                output[y,x,z]=(kernel * image_padded[y: y+kernel.shape[0], x: x+kernel.shape[1],z]).sum()\n",
    "    return output\n",
    "\n",
    "gaussian_blurr=np.array([[1,  4,  6,  4, 1],\n",
    "                         [4, 16, 24, 16, 4],\n",
    "                         [6, 24, 36, 24, 6],\n",
    "                         [4, 16, 24, 16, 4],\n",
    "                         [1,  4,  6,  4, 1]])/256\n",
    "\n",
    "file_name=\"mask (1).png\"\n",
    "im = np.array(Image.open(file_name))\n",
    "lower_blue = np.array([94,130,38])\n",
    "upper_blue = np.array([179,255,255])\n",
    "im=RGB2BGR(im)\n",
    "im=masking_image(convolve3d(im,gaussian_blurr),lower_blue,upper_blue)\n",
    "pil_img=Image.fromarray(im.astype(np.uint8))\n",
    "pil_img.show()"
   ]
  },
  {
   "cell_type": "code",
   "execution_count": null,
   "metadata": {},
   "outputs": [],
   "source": []
  }
 ],
 "metadata": {
  "kernelspec": {
   "display_name": "Python 3",
   "language": "python",
   "name": "python3"
  },
  "language_info": {
   "codemirror_mode": {
    "name": "ipython",
    "version": 3
   },
   "file_extension": ".py",
   "mimetype": "text/x-python",
   "name": "python",
   "nbconvert_exporter": "python",
   "pygments_lexer": "ipython3",
   "version": "3.7.6"
  }
 },
 "nbformat": 4,
 "nbformat_minor": 4
}
