{
 "cells": [
  {
   "cell_type": "code",
   "execution_count": 18,
   "metadata": {},
   "outputs": [],
   "source": [
    "from PIL import Image\n",
    "import numpy as np\n",
    "\n",
    "def circle(h,w,centre=[964,1110],radius=80):\n",
    "    Y,X=np.ogrid[:h,:w]\n",
    "    distance=np.sqrt((Y-centre[0])**2+(X-centre[1])**2)<=radius\n",
    "    return distance\n",
    "\n",
    "def convolution(img,kernel):\n",
    "    img_row,img_column,img_channel=image.shape\n",
    "    #kernel_size=kernel.shape[0]\n",
    "    #padding_width=(kernel_size-1)//2\n",
    "    output=np.zeros(img.shape)\n",
    "    padded_image=np.zeros((img_row+kernel.shape[0]-1,img_column+kernel.shape[1]-1,img_channel))\n",
    "    padded_image[kernel.shape[0]-1:kernel.shape[0]-1+img_row,kernel.shape[1]-1:kernel.shape[1]-1+img_column]=img\n",
    "    #padded_image[0,0,:]=image[0,0,:]\n",
    "   # padded_image[-1,-1,:]=image[-1,-1,:]\n",
    "    for j in range(img_column):\n",
    "        for i in range(img_row):\n",
    "            for k in range(img_channel):\n",
    "                s=np.sum(padded_image[i:i+kernel.shape[0],j:j+kernel.shape[1],k]*kernel)\n",
    "                output[i,j,k]=s\n",
    "    if img.shape[2]==4:\n",
    "        output[:,:,3]=img[:,:,3]\n",
    "    return output\n",
    "\n",
    "gaussian=np.array([[1,  4,  6,  4, 1],\n",
    "                         [4, 16, 24, 16, 4],\n",
    "                         [6, 24, 36, 24, 6],\n",
    "                         [4, 16, 24, 16, 4],\n",
    "                         [1,  4,  6,  4, 1]])/256\n",
    "\n",
    "image=np.array(Image.open('roimessi.jpg'))\n",
    "image=convolution(image,gaussian)\n",
    "mask=circle(image.shape[0],image.shape[1])\n",
    "masked=image.copy()\n",
    "masked[~mask]=0\n",
    "r_shift=-25\n",
    "c_shift=-670\n",
    "\n",
    "for i in range(image.shape[0]):\n",
    "    for j in range(image.shape[1]):\n",
    "        if masked[i,j,:].all()!=0:\n",
    "            masked[i+r_shift,j+c_shift,:]=masked[i,j,:]\n",
    "            masked[i,j,:]=0\n",
    "            image[i+r_shift,j+c_shift,:]=0\n",
    "image=np.bitwise_or(image.astype(int),masked.astype(int))\n",
    "pil_img=Image.fromarray(image.astype(np.uint8))\n",
    "pil_img.show()\n",
    "            \n",
    "        "
   ]
  },
  {
   "cell_type": "code",
   "execution_count": null,
   "metadata": {},
   "outputs": [],
   "source": []
  }
 ],
 "metadata": {
  "kernelspec": {
   "display_name": "Python 3",
   "language": "python",
   "name": "python3"
  },
  "language_info": {
   "codemirror_mode": {
    "name": "ipython",
    "version": 3
   },
   "file_extension": ".py",
   "mimetype": "text/x-python",
   "name": "python",
   "nbconvert_exporter": "python",
   "pygments_lexer": "ipython3",
   "version": "3.7.6"
  }
 },
 "nbformat": 4,
 "nbformat_minor": 4
}
